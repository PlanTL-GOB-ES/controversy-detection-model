{
 "cells": [
  {
   "cell_type": "code",
   "execution_count": 1,
   "id": "69fa6a12",
   "metadata": {},
   "outputs": [],
   "source": [
    "import seaborn as sns\n",
    "import csv\n",
    "import pandas as pd"
   ]
  },
  {
   "cell_type": "code",
   "execution_count": 2,
   "id": "cbff3eed",
   "metadata": {},
   "outputs": [],
   "source": [
    "with open('../../output/media_coocurrence.csv', 'r') as file:\n",
    "    content = csv.reader(file, quotechar='\"')\n",
    "    table = list(content)"
   ]
  },
  {
   "cell_type": "code",
   "execution_count": 3,
   "id": "3485601f",
   "metadata": {},
   "outputs": [],
   "source": [
    "table_media = [line for line in table[1:] if line != []]"
   ]
  },
  {
   "cell_type": "code",
   "execution_count": 4,
   "id": "88538233",
   "metadata": {},
   "outputs": [
    {
     "name": "stderr",
     "output_type": "stream",
     "text": [
      "/home/blanca/Desktop/controversy-detection-model/venv/lib/python3.7/site-packages/IPython/core/interactiveshell.py:3524: FutureWarning: Could not cast to float64, falling back to object. This behavior is deprecated. In a future version, when a dtype is passed to 'DataFrame', either all columns will be cast to that dtype, or a TypeError will be raised\n",
      "  exec(code_obj, self.user_global_ns, self.user_ns)\n"
     ]
    },
    {
     "data": {
      "text/html": [
       "<div>\n",
       "<style scoped>\n",
       "    .dataframe tbody tr th:only-of-type {\n",
       "        vertical-align: middle;\n",
       "    }\n",
       "\n",
       "    .dataframe tbody tr th {\n",
       "        vertical-align: top;\n",
       "    }\n",
       "\n",
       "    .dataframe thead th {\n",
       "        text-align: right;\n",
       "    }\n",
       "</style>\n",
       "<table border=\"1\" class=\"dataframe\">\n",
       "  <thead>\n",
       "    <tr style=\"text-align: right;\">\n",
       "      <th></th>\n",
       "      <th>Source</th>\n",
       "      <th>Controversy Occurrences</th>\n",
       "      <th>Total Occurrences Sampled</th>\n",
       "      <th>Total Occurrences</th>\n",
       "    </tr>\n",
       "  </thead>\n",
       "  <tbody>\n",
       "    <tr>\n",
       "      <th>0</th>\n",
       "      <td>twitter.com</td>\n",
       "      <td>326.0</td>\n",
       "      <td>445.0</td>\n",
       "      <td>2300.0</td>\n",
       "    </tr>\n",
       "    <tr>\n",
       "      <th>1</th>\n",
       "      <td>www.youtube.com</td>\n",
       "      <td>306.0</td>\n",
       "      <td>667.0</td>\n",
       "      <td>5955.0</td>\n",
       "    </tr>\n",
       "    <tr>\n",
       "      <th>2</th>\n",
       "      <td>www.eldiario.es</td>\n",
       "      <td>293.0</td>\n",
       "      <td>772.0</td>\n",
       "      <td>7533.0</td>\n",
       "    </tr>\n",
       "    <tr>\n",
       "      <th>3</th>\n",
       "      <td>www.publico.es</td>\n",
       "      <td>190.0</td>\n",
       "      <td>552.0</td>\n",
       "      <td>5804.0</td>\n",
       "    </tr>\n",
       "    <tr>\n",
       "      <th>4</th>\n",
       "      <td>www.20minutos.es</td>\n",
       "      <td>118.0</td>\n",
       "      <td>504.0</td>\n",
       "      <td>6048.0</td>\n",
       "    </tr>\n",
       "    <tr>\n",
       "      <th>...</th>\n",
       "      <td>...</td>\n",
       "      <td>...</td>\n",
       "      <td>...</td>\n",
       "      <td>...</td>\n",
       "    </tr>\n",
       "    <tr>\n",
       "      <th>1626</th>\n",
       "      <td>science.slashdot.org</td>\n",
       "      <td>1.0</td>\n",
       "      <td>2.0</td>\n",
       "      <td>8.0</td>\n",
       "    </tr>\n",
       "    <tr>\n",
       "      <th>1627</th>\n",
       "      <td>www.malavida.com</td>\n",
       "      <td>1.0</td>\n",
       "      <td>6.0</td>\n",
       "      <td>189.0</td>\n",
       "    </tr>\n",
       "    <tr>\n",
       "      <th>1628</th>\n",
       "      <td>www.cordobabn.com</td>\n",
       "      <td>1.0</td>\n",
       "      <td>1.0</td>\n",
       "      <td>6.0</td>\n",
       "    </tr>\n",
       "    <tr>\n",
       "      <th>1629</th>\n",
       "      <td>losojosdehipatia.com.es</td>\n",
       "      <td>1.0</td>\n",
       "      <td>1.0</td>\n",
       "      <td>5.0</td>\n",
       "    </tr>\n",
       "    <tr>\n",
       "      <th>1630</th>\n",
       "      <td>www.derf.com.ar</td>\n",
       "      <td>1.0</td>\n",
       "      <td>1.0</td>\n",
       "      <td>10.0</td>\n",
       "    </tr>\n",
       "  </tbody>\n",
       "</table>\n",
       "<p>1631 rows × 4 columns</p>\n",
       "</div>"
      ],
      "text/plain": [
       "                       Source  Controversy Occurrences  \\\n",
       "0                 twitter.com                    326.0   \n",
       "1             www.youtube.com                    306.0   \n",
       "2             www.eldiario.es                    293.0   \n",
       "3              www.publico.es                    190.0   \n",
       "4            www.20minutos.es                    118.0   \n",
       "...                       ...                      ...   \n",
       "1626     science.slashdot.org                      1.0   \n",
       "1627         www.malavida.com                      1.0   \n",
       "1628        www.cordobabn.com                      1.0   \n",
       "1629  losojosdehipatia.com.es                      1.0   \n",
       "1630          www.derf.com.ar                      1.0   \n",
       "\n",
       "      Total Occurrences Sampled  Total Occurrences  \n",
       "0                         445.0             2300.0  \n",
       "1                         667.0             5955.0  \n",
       "2                         772.0             7533.0  \n",
       "3                         552.0             5804.0  \n",
       "4                         504.0             6048.0  \n",
       "...                         ...                ...  \n",
       "1626                        2.0                8.0  \n",
       "1627                        6.0              189.0  \n",
       "1628                        1.0                6.0  \n",
       "1629                        1.0                5.0  \n",
       "1630                        1.0               10.0  \n",
       "\n",
       "[1631 rows x 4 columns]"
      ]
     },
     "execution_count": 4,
     "metadata": {},
     "output_type": "execute_result"
    }
   ],
   "source": [
    "media_plotting = pd.DataFrame(table_media, columns=table[0], dtype=float)\n",
    "\n",
    "#media_plotting.columns = table[0]\n",
    "\n",
    "media_plotting"
   ]
  },
  {
   "cell_type": "code",
   "execution_count": 5,
   "id": "9c9973fb",
   "metadata": {},
   "outputs": [],
   "source": [
    "#media_plotting['relative'] = media_plotting['Controversy Occurrences']/media_plotting['Total Occurrences']\n",
    "\n",
    "#media_plotting.sort_values(by='relative', ascending=False)\n"
   ]
  },
  {
   "cell_type": "code",
   "execution_count": 6,
   "id": "c2dbd0f1",
   "metadata": {},
   "outputs": [],
   "source": [
    "with open('../../output/types.csv', 'r') as file:\n",
    "    content = csv.reader(file, quotechar='\"')\n",
    "    types = list(content)"
   ]
  },
  {
   "cell_type": "code",
   "execution_count": 7,
   "id": "393587cc",
   "metadata": {},
   "outputs": [
    {
     "name": "stderr",
     "output_type": "stream",
     "text": [
      "/home/blanca/Desktop/controversy-detection-model/venv/lib/python3.7/site-packages/IPython/core/interactiveshell.py:3524: FutureWarning: Could not cast to float64, falling back to object. This behavior is deprecated. In a future version, when a dtype is passed to 'DataFrame', either all columns will be cast to that dtype, or a TypeError will be raised\n",
      "  exec(code_obj, self.user_global_ns, self.user_ns)\n"
     ]
    }
   ],
   "source": [
    "types_media = pd.DataFrame(types[1:], columns=types[0], dtype=float)"
   ]
  },
  {
   "cell_type": "code",
   "execution_count": 8,
   "id": "0eac86b5",
   "metadata": {},
   "outputs": [
    {
     "data": {
      "text/html": [
       "<div>\n",
       "<style scoped>\n",
       "    .dataframe tbody tr th:only-of-type {\n",
       "        vertical-align: middle;\n",
       "    }\n",
       "\n",
       "    .dataframe tbody tr th {\n",
       "        vertical-align: top;\n",
       "    }\n",
       "\n",
       "    .dataframe thead th {\n",
       "        text-align: right;\n",
       "    }\n",
       "</style>\n",
       "<table border=\"1\" class=\"dataframe\">\n",
       "  <thead>\n",
       "    <tr style=\"text-align: right;\">\n",
       "      <th></th>\n",
       "      <th>Source</th>\n",
       "      <th>type</th>\n",
       "    </tr>\n",
       "  </thead>\n",
       "  <tbody>\n",
       "    <tr>\n",
       "      <th>0</th>\n",
       "      <td>twitter.com</td>\n",
       "      <td>social network</td>\n",
       "    </tr>\n",
       "    <tr>\n",
       "      <th>1</th>\n",
       "      <td>www.youtube.com</td>\n",
       "      <td>social network</td>\n",
       "    </tr>\n",
       "    <tr>\n",
       "      <th>2</th>\n",
       "      <td>www.eldiario.es</td>\n",
       "      <td>general press</td>\n",
       "    </tr>\n",
       "    <tr>\n",
       "      <th>3</th>\n",
       "      <td>www.publico.es</td>\n",
       "      <td>general press</td>\n",
       "    </tr>\n",
       "    <tr>\n",
       "      <th>4</th>\n",
       "      <td>www.20minutos.es</td>\n",
       "      <td>general press</td>\n",
       "    </tr>\n",
       "    <tr>\n",
       "      <th>...</th>\n",
       "      <td>...</td>\n",
       "      <td>...</td>\n",
       "    </tr>\n",
       "    <tr>\n",
       "      <th>934</th>\n",
       "      <td>alt1040.com</td>\n",
       "      <td>specialized press</td>\n",
       "    </tr>\n",
       "    <tr>\n",
       "      <th>935</th>\n",
       "      <td>www.adslzone.net</td>\n",
       "      <td>specialized press</td>\n",
       "    </tr>\n",
       "    <tr>\n",
       "      <th>936</th>\n",
       "      <td>www.bbc.co.uk</td>\n",
       "      <td>general press</td>\n",
       "    </tr>\n",
       "    <tr>\n",
       "      <th>937</th>\n",
       "      <td>www.expansion.com</td>\n",
       "      <td>general press</td>\n",
       "    </tr>\n",
       "    <tr>\n",
       "      <th>938</th>\n",
       "      <td>politica.elpais.com</td>\n",
       "      <td>general press</td>\n",
       "    </tr>\n",
       "  </tbody>\n",
       "</table>\n",
       "<p>939 rows × 2 columns</p>\n",
       "</div>"
      ],
      "text/plain": [
       "                  Source               type\n",
       "0            twitter.com     social network\n",
       "1        www.youtube.com     social network\n",
       "2        www.eldiario.es      general press\n",
       "3         www.publico.es      general press\n",
       "4       www.20minutos.es      general press\n",
       "..                   ...                ...\n",
       "934          alt1040.com  specialized press\n",
       "935     www.adslzone.net  specialized press\n",
       "936        www.bbc.co.uk      general press\n",
       "937    www.expansion.com      general press\n",
       "938  politica.elpais.com      general press\n",
       "\n",
       "[939 rows x 2 columns]"
      ]
     },
     "execution_count": 8,
     "metadata": {},
     "output_type": "execute_result"
    }
   ],
   "source": [
    "types_media"
   ]
  },
  {
   "cell_type": "code",
   "execution_count": 34,
   "id": "e6fe12c1",
   "metadata": {},
   "outputs": [],
   "source": [
    "result = pd.merge(media_plotting, types_media, how=\"left\",on='Source')"
   ]
  },
  {
   "cell_type": "code",
   "execution_count": 36,
   "id": "5ab95033",
   "metadata": {},
   "outputs": [],
   "source": [
    "result = media_plotting.reset_index().merge(types_media, how=\"left\").set_index('index')"
   ]
  },
  {
   "cell_type": "code",
   "execution_count": 40,
   "id": "42656e56",
   "metadata": {},
   "outputs": [],
   "source": [
    "new_result = result.drop_duplicates()"
   ]
  },
  {
   "cell_type": "code",
   "execution_count": 43,
   "id": "0076e394",
   "metadata": {},
   "outputs": [],
   "source": [
    "final_result = new_result[new_result['type'].notna()]"
   ]
  },
  {
   "cell_type": "code",
   "execution_count": 44,
   "id": "3326d1fd",
   "metadata": {},
   "outputs": [
    {
     "name": "stdout",
     "output_type": "stream",
     "text": [
      "1631\n"
     ]
    }
   ],
   "source": [
    "print(len(media_plotting))"
   ]
  },
  {
   "cell_type": "code",
   "execution_count": 45,
   "id": "bbaf9875",
   "metadata": {},
   "outputs": [
    {
     "name": "stdout",
     "output_type": "stream",
     "text": [
      "105\n"
     ]
    }
   ],
   "source": [
    "print(len(final_result))"
   ]
  },
  {
   "cell_type": "code",
   "execution_count": 46,
   "id": "72cf1c9b",
   "metadata": {},
   "outputs": [],
   "source": [
    "grouped = final_result.groupby('type')"
   ]
  },
  {
   "cell_type": "code",
   "execution_count": 47,
   "id": "a48e2d53",
   "metadata": {},
   "outputs": [],
   "source": [
    "controversial = grouped['Controversy Occurrences'].sum().tolist()\n"
   ]
  },
  {
   "cell_type": "code",
   "execution_count": 48,
   "id": "ced9b4d8",
   "metadata": {},
   "outputs": [],
   "source": [
    "total = result.groupby('type')['Total Occurrences'].sum()\n",
    "total_list = total.tolist()\n",
    "types = total.index.tolist()"
   ]
  },
  {
   "cell_type": "code",
   "execution_count": 49,
   "id": "692d6c46",
   "metadata": {},
   "outputs": [
    {
     "data": {
      "text/plain": [
       "[122.0, 29.0, 2107.0, 120.0, 699.0, 308.0, 46.0]"
      ]
     },
     "execution_count": 49,
     "metadata": {},
     "output_type": "execute_result"
    }
   ],
   "source": [
    "controversial"
   ]
  },
  {
   "cell_type": "code",
   "execution_count": 50,
   "id": "4b7467ed",
   "metadata": {},
   "outputs": [
    {
     "data": {
      "text/plain": [
       "['blog',\n",
       " 'fact-checker',\n",
       " 'general press',\n",
       " 'satirical',\n",
       " 'social network',\n",
       " 'specialized press']"
      ]
     },
     "execution_count": 50,
     "metadata": {},
     "output_type": "execute_result"
    }
   ],
   "source": [
    "types[:-1]"
   ]
  },
  {
   "cell_type": "code",
   "execution_count": 51,
   "id": "354a9dae",
   "metadata": {},
   "outputs": [
    {
     "data": {
      "text/plain": [
       "[0.004733268671193017,\n",
       " 0.014987080103359173,\n",
       " 0.0029150646723768913,\n",
       " 0.007822175868587446,\n",
       " 0.008753365474923298,\n",
       " 0.0029947106409458617]"
      ]
     },
     "execution_count": 51,
     "metadata": {},
     "output_type": "execute_result"
    }
   ],
   "source": [
    "ratio = [m/n for m, n in zip(controversial[:-1], total_list[:-1])]\n",
    "ratio"
   ]
  },
  {
   "cell_type": "code",
   "execution_count": 52,
   "id": "4272cb84",
   "metadata": {},
   "outputs": [],
   "source": [
    "controversial_sorted, types_sorted = (list(t) for t in zip(*sorted(zip(controversial[:-1], types[:-1]), reverse=True)))"
   ]
  },
  {
   "cell_type": "code",
   "execution_count": 53,
   "id": "0d682228",
   "metadata": {},
   "outputs": [],
   "source": [
    "controversial_sorted, ratio_sorted = (list(t) for t in zip(*sorted(zip(controversial[:-1], ratio), reverse=True)))"
   ]
  },
  {
   "cell_type": "code",
   "execution_count": 54,
   "id": "628029c7",
   "metadata": {},
   "outputs": [
    {
     "data": {
      "text/plain": [
       "['general press',\n",
       " 'social network',\n",
       " 'specialized press',\n",
       " 'blog',\n",
       " 'satirical',\n",
       " 'fact-checker']"
      ]
     },
     "execution_count": 54,
     "metadata": {},
     "output_type": "execute_result"
    }
   ],
   "source": [
    "types_sorted"
   ]
  },
  {
   "cell_type": "code",
   "execution_count": 55,
   "id": "38d0d0fb",
   "metadata": {},
   "outputs": [
    {
     "data": {
      "text/plain": [
       "[2107.0, 699.0, 308.0, 122.0, 120.0, 29.0]"
      ]
     },
     "execution_count": 55,
     "metadata": {},
     "output_type": "execute_result"
    }
   ],
   "source": [
    "controversial_sorted"
   ]
  },
  {
   "cell_type": "code",
   "execution_count": 56,
   "id": "52d110c7",
   "metadata": {},
   "outputs": [
    {
     "data": {
      "text/plain": [
       "[0.0029150646723768913,\n",
       " 0.008753365474923298,\n",
       " 0.0029947106409458617,\n",
       " 0.004733268671193017,\n",
       " 0.007822175868587446,\n",
       " 0.014987080103359173]"
      ]
     },
     "execution_count": 56,
     "metadata": {},
     "output_type": "execute_result"
    }
   ],
   "source": [
    "ratio_sorted"
   ]
  },
  {
   "cell_type": "code",
   "execution_count": 57,
   "id": "3fc08f38",
   "metadata": {},
   "outputs": [],
   "source": [
    "import matplotlib.pyplot as plt"
   ]
  },
  {
   "cell_type": "code",
   "execution_count": 59,
   "id": "7d70b106",
   "metadata": {},
   "outputs": [
    {
     "name": "stderr",
     "output_type": "stream",
     "text": [
      "/home/blanca/Desktop/controversy-detection-model/venv/lib/python3.7/site-packages/seaborn/_decorators.py:43: FutureWarning: Pass the following variables as keyword args: x, y. From version 0.12, the only valid positional argument will be `data`, and passing other arguments without an explicit keyword will result in an error or misinterpretation.\n",
      "  FutureWarning\n",
      "/home/blanca/Desktop/controversy-detection-model/venv/lib/python3.7/site-packages/seaborn/_decorators.py:43: FutureWarning: Pass the following variables as keyword args: x, y. From version 0.12, the only valid positional argument will be `data`, and passing other arguments without an explicit keyword will result in an error or misinterpretation.\n",
      "  FutureWarning\n"
     ]
    },
    {
     "data": {
      "image/png": "[encoded data removed]",
      "text/plain": [
       "<Figure size 504x288 with 2 Axes>"
      ]
     },
     "metadata": {
      "needs_background": "light"
     },
     "output_type": "display_data"
    }
   ],
   "source": [
    "fig, ax1 = plt.subplots(figsize=(7,4)) # we create a figure that is going to contain subplots\n",
    "\n",
    "ax2 = ax1.twiny() # we create a second twin axis that will share the x axis of the first!\n",
    "\n",
    "sns.barplot(controversial_sorted, types_sorted, color = '#FA8072', ax = ax1)\n",
    "\n",
    "sns.scatterplot(ratio_sorted, types_sorted, ax = ax2)\n",
    "\n",
    "ax1.set_xlabel(\"Total Number of Controversial Posts\", fontsize=10)\n",
    "#ax.set_yticklabels(media_classified.type)\n",
    "ax2.set_xlabel(\"Ratio of Controversial Posts over the Whole Dataset\", fontsize=10)\n",
    "ax2.set_yticklabels(types_sorted)\n",
    "\n",
    "\n",
    "# invert for largest on top \n",
    "#ax1.invert_yaxis()\n",
    "plt.savefig('../../output/visuals/media_counts.png', dpi=400, bbox_inches=\"tight\")"
   ]
  },
  {
   "cell_type": "raw",
   "id": "7585a9db",
   "metadata": {},
   "source": []
  },
  {
   "cell_type": "code",
   "execution_count": null,
   "id": "95ec1573",
   "metadata": {},
   "outputs": [],
   "source": []
  }
 ],
 "metadata": {
  "kernelspec": {
   "display_name": "Python 3 (ipykernel)",
   "language": "python",
   "name": "python3"
  },
  "language_info": {
   "codemirror_mode": {
    "name": "ipython",
    "version": 3
   },
   "file_extension": ".py",
   "mimetype": "text/x-python",
   "name": "python",
   "nbconvert_exporter": "python",
   "pygments_lexer": "ipython3",
   "version": "3.7.12"
  }
 },
 "nbformat": 4,
 "nbformat_minor": 5
}
