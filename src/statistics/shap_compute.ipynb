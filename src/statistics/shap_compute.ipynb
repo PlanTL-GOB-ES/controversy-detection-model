{
 "cells": [
  {
   "cell_type": "code",
   "execution_count": 6,
   "metadata": {},
   "outputs": [
    {
     "ename": "ModuleNotFoundError",
     "evalue": "No module named 'shap'",
     "output_type": "error",
     "traceback": [
      "\u001b[0;31m---------------------------------------------------------------------------\u001b[0m",
      "\u001b[0;31mModuleNotFoundError\u001b[0m                       Traceback (most recent call last)",
      "Input \u001b[0;32mIn [6]\u001b[0m, in \u001b[0;36m<cell line: 2>\u001b[0;34m()\u001b[0m\n\u001b[1;32m      1\u001b[0m \u001b[38;5;28;01mfrom\u001b[39;00m \u001b[38;5;21;01mtransformers\u001b[39;00m \u001b[38;5;28;01mimport\u001b[39;00m AutoModelForSequenceClassification, AutoTokenizer, pipeline, AutoConfig\n\u001b[0;32m----> 2\u001b[0m \u001b[38;5;28;01mimport\u001b[39;00m \u001b[38;5;21;01mshap\u001b[39;00m\n",
      "\u001b[0;31mModuleNotFoundError\u001b[0m: No module named 'shap'"
     ]
    }
   ],
   "source": [
    "from transformers import AutoModelForSequenceClassification, AutoTokenizer, pipeline, AutoConfig\n",
    "import shap"
   ]
  },
  {
   "cell_type": "code",
   "execution_count": null,
   "metadata": {},
   "outputs": [],
   "source": [
    "def load_pipeline(INPUT_PATH):\n",
    "    model = AutoModelForSequenceClassification.from_pretrained(INPUT_PATH)\n",
    "    tokenizer = AutoTokenizer.from_pretrained(INPUT_PATH)\n",
    "    config = AutoConfig.from_pretrained(INPUT_PATH)\n",
    "    p = pipeline('text-classification', model=model, tokenizer=tokenizer, config=config, return_all_scores=True)\n",
    "    return p"
   ]
  },
  {
   "cell_type": "code",
   "execution_count": null,
   "metadata": {},
   "outputs": [],
   "source": [
    "INPUT_PATH = '../../models/title'\n",
    "\n",
    "pipeline_title = load_pipeline(INPUT_PATH)"
   ]
  },
  {
   "cell_type": "code",
   "execution_count": null,
   "metadata": {},
   "outputs": [],
   "source": [
    "INPUT_PATH = '../../models/title_summary'\n",
    "\n",
    "pipeline_title_summary = load_pipeline(INPUT_PATH)"
   ]
  },
  {
   "cell_type": "code",
   "execution_count": null,
   "metadata": {},
   "outputs": [],
   "source": [
    "# Features pushing the prediction higher are shown in red, those pushing the prediction lower are in blue.\n",
    "\n",
    "# LABEL_0--> CONTROVERSY, LABEL_1 --> NO_CONTROVERSY"
   ]
  },
  {
   "cell_type": "code",
   "execution_count": null,
   "metadata": {},
   "outputs": [],
   "source": [
    "def try_input(pipeline, INPUT_TEXT, display=True):\n",
    "    print(pipeline([INPUT_TEXT]))\n",
    "    explainer = shap.Explainer(pipeline)\n",
    "    shap_values = explainer([INPUT_TEXT])\n",
    "    shap_values.output_names = ['CONTROVERSY', 'NO_CONTROVERSY']\n",
    "    html_out = shap.plots.text(shap_values[0, :, 'CONTROVERSY'], display = display) \n",
    "    if not display:\n",
    "        file = open(\"../../output/visuals/\"+INPUT_TEXT[:10].replace(' ', '_').lower()+\".html\",\"w\")\n",
    "        file.write(html_out)\n",
    "        file.close()\n",
    "    #return shap_values\n",
    "    "
   ]
  },
  {
   "cell_type": "code",
   "execution_count": null,
   "metadata": {},
   "outputs": [],
   "source": [
    "INPUT_TEXT = \"Guerra de Ucrania: Basta ya de mentiras, medias verdades y desinformación\" # -- for adding the summary\n",
    "\n",
    "html_out = try_input(pipeline_title, INPUT_TEXT)"
   ]
  },
  {
   "cell_type": "code",
   "execution_count": null,
   "metadata": {},
   "outputs": [],
   "source": [
    "INPUT_TEXT = \"Guerra de Ucrania: Basta ya de mentiras, medias verdades y desinformación -- El engaño de hoy será el lamento de mañana. Por ello, no solo hay que describir lo que está sucediendo desde múltiples puntos de vista, sino que también es necesario intentar alcanzar las razones por las que acontece. No es sencillo y, seguramente, no lo consiga debido a las múltiples limitaciones que poseo, pero es lo que he intentado hacer. Este es el resultado en quince puntos. No es una lectura cómoda ni corta, pero creo que necesaria. \" # -- for adding the summary\n",
    "\n",
    "try_input(pipeline_title_summary, INPUT_TEXT)"
   ]
  },
  {
   "cell_type": "code",
   "execution_count": null,
   "metadata": {},
   "outputs": [],
   "source": [
    "# TRY THE FIRST 4 INSTANCES IN WHICH T_S DOES IT RIGHT"
   ]
  },
  {
   "cell_type": "code",
   "execution_count": null,
   "metadata": {},
   "outputs": [],
   "source": [
    "import json\n",
    "\n",
    "analysis_data = []\n",
    "with open('analysis_data.json', 'r') as file:\n",
    "    for line in file.readlines():\n",
    "        d = json.loads(line)\n",
    "        analysis_data.append(d)"
   ]
  },
  {
   "cell_type": "code",
   "execution_count": null,
   "metadata": {},
   "outputs": [],
   "source": [
    "for i,data in enumerate(analysis_data):\n",
    "    if data['controversy'] and data['answer_summary'] == 'CONTROVERSY':\n",
    "        print(i)"
   ]
  },
  {
   "cell_type": "markdown",
   "metadata": {},
   "source": [
    "### Ejemplo 1"
   ]
  },
  {
   "cell_type": "code",
   "execution_count": null,
   "metadata": {},
   "outputs": [],
   "source": [
    "data = analysis_data[1]\n",
    "print(data['answer_title'], data['answer_summary'])"
   ]
  },
  {
   "cell_type": "code",
   "execution_count": null,
   "metadata": {},
   "outputs": [],
   "source": [
    "try_input(pipeline_title, \"Los vecinos de Chamartín rodean y plan tan cara a los ultras de las cacerolas\")"
   ]
  },
  {
   "cell_type": "code",
   "execution_count": null,
   "metadata": {},
   "outputs": [],
   "source": [
    "try_input(pipeline_title_summary, data['title']+' -- '+data['content'])"
   ]
  },
  {
   "cell_type": "code",
   "execution_count": null,
   "metadata": {},
   "outputs": [],
   "source": [
    "data2 = analysis_data[23]\n",
    "print(data2['answer_title'], data2['answer_summary'])"
   ]
  },
  {
   "cell_type": "code",
   "execution_count": null,
   "metadata": {},
   "outputs": [],
   "source": [
    "try_input(pipeline_title, data2['title'], display = True)"
   ]
  },
  {
   "cell_type": "code",
   "execution_count": null,
   "metadata": {},
   "outputs": [],
   "source": [
    "try_input(pipeline_title_summary, data2['title']+' -- '+data2['content'])"
   ]
  },
  {
   "cell_type": "code",
   "execution_count": null,
   "metadata": {},
   "outputs": [],
   "source": [
    "data3 = analysis_data[36]\n",
    "print(data3['answer_title'], data3['answer_summary'])"
   ]
  },
  {
   "cell_type": "code",
   "execution_count": null,
   "metadata": {},
   "outputs": [],
   "source": [
    "try_input(pipeline_title, data3['title'], display=True)"
   ]
  },
  {
   "cell_type": "code",
   "execution_count": null,
   "metadata": {},
   "outputs": [],
   "source": [
    "try_input(pipeline_title_summary, data3['title']+' -- '+data3['content'])"
   ]
  },
  {
   "cell_type": "code",
   "execution_count": null,
   "metadata": {},
   "outputs": [],
   "source": [
    "data4 = analysis_data[53]\n",
    "print(data4['answer_title'], data4['answer_summary'])"
   ]
  },
  {
   "cell_type": "code",
   "execution_count": null,
   "metadata": {},
   "outputs": [],
   "source": [
    "try_input(pipeline_title, data4['title'])"
   ]
  },
  {
   "cell_type": "code",
   "execution_count": null,
   "metadata": {},
   "outputs": [],
   "source": [
    "try_input(pipeline_title_summary, data4['title']+' -- '+data4['content'])"
   ]
  },
  {
   "cell_type": "code",
   "execution_count": null,
   "metadata": {},
   "outputs": [],
   "source": []
  }
 ],
 "metadata": {
  "kernelspec": {
   "display_name": "Python 3 (ipykernel)",
   "language": "python",
   "name": "python3"
  },
  "language_info": {
   "codemirror_mode": {
    "name": "ipython",
    "version": 3
   },
   "file_extension": ".py",
   "mimetype": "text/x-python",
   "name": "python",
   "nbconvert_exporter": "python",
   "pygments_lexer": "ipython3",
   "version": "3.9.12"
  }
 },
 "nbformat": 4,
 "nbformat_minor": 1
}
